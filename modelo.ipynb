{
 "cells": [
  {
   "cell_type": "code",
   "execution_count": 23,
   "id": "39ccf2e8",
   "metadata": {},
   "outputs": [],
   "source": [
    "import pandas as pd\n",
    "import numpy as np\n",
    "import joblib\n",
    "import csv\n",
    "from datasets import Dataset, DatasetDict\n",
    "\n",
    "df_final = pd.read_csv('../Novo_projeto_ML/DataFrame/df_final.csv')"
   ]
  },
  {
   "cell_type": "code",
   "execution_count": 24,
   "id": "34ff9342",
   "metadata": {},
   "outputs": [],
   "source": [
    "from transformers import AutoTokenizer\n",
    "\n",
    "# 1. Definir qual o modelo pré-treinado que vamos usar como base.\n",
    "model_checkpoint = \"t5-small\"\n",
    "\n",
    "# 2. Carregar o tokenizador associado a esse modelo.\n",
    "tokenizer = AutoTokenizer.from_pretrained(model_checkpoint)"
   ]
  },
  {
   "cell_type": "code",
   "execution_count": 25,
   "id": "ea3e4a17",
   "metadata": {},
   "outputs": [
    {
     "name": "stdout",
     "output_type": "stream",
     "text": [
      "DatasetDict({\n",
      "    train: Dataset({\n",
      "        features: ['English', 'Portuguese'],\n",
      "        num_rows: 418644\n",
      "    })\n",
      "    test: Dataset({\n",
      "        features: ['English', 'Portuguese'],\n",
      "        num_rows: 46517\n",
      "    })\n",
      "})\n"
     ]
    }
   ],
   "source": [
    "from datasets import Dataset, DatasetDict\n",
    "\n",
    "# DataFrame 'df_final' para o formato Dataset\n",
    "dataset = Dataset.from_pandas(df_final)\n",
    "\n",
    "# Dividir em treino e teste\n",
    "train_test_split = dataset.train_test_split(test_size=0.1)\n",
    "\n",
    "# Organizar no Dicionário de Datasets\n",
    "raw_datasets = DatasetDict({\n",
    "    'train': train_test_split['train'],\n",
    "    'test': train_test_split['test']\n",
    "})\n",
    "\n",
    "print(raw_datasets)"
   ]
  },
  {
   "cell_type": "code",
   "execution_count": 26,
   "id": "b2e1495c",
   "metadata": {},
   "outputs": [
    {
     "name": "stderr",
     "output_type": "stream",
     "text": [
      "Map: 100%|██████████| 418644/418644 [00:21<00:00, 19818.87 examples/s]\n",
      "Map: 100%|██████████| 46517/46517 [00:02<00:00, 18681.13 examples/s]"
     ]
    },
    {
     "name": "stdout",
     "output_type": "stream",
     "text": [
      "DatasetDict({\n",
      "    train: Dataset({\n",
      "        features: ['English', 'Portuguese', 'input_ids', 'attention_mask', 'labels'],\n",
      "        num_rows: 418644\n",
      "    })\n",
      "    test: Dataset({\n",
      "        features: ['English', 'Portuguese', 'input_ids', 'attention_mask', 'labels'],\n",
      "        num_rows: 46517\n",
      "    })\n",
      "})\n"
     ]
    },
    {
     "name": "stderr",
     "output_type": "stream",
     "text": [
      "\n"
     ]
    }
   ],
   "source": [
    "prefix = \"translate English to Portuguese: \"\n",
    "\n",
    "def preprocess_function(examples):\n",
    "    \n",
    "    inputs = [prefix + doc for doc in examples[\"English\"]] \n",
    "    model_inputs = tokenizer(inputs, max_length=128, truncation=True)\n",
    "\n",
    "   \n",
    "    labels = tokenizer(text_target=examples[\"Portuguese\"], max_length=128, truncation=True) \n",
    "\n",
    "    model_inputs[\"labels\"] = labels[\"input_ids\"]\n",
    "    return model_inputs\n",
    "\n",
    "\n",
    "tokenized_datasets = raw_datasets.map(preprocess_function, batched=True)\n",
    "\n",
    "print(tokenized_datasets)"
   ]
  },
  {
   "cell_type": "code",
   "execution_count": null,
   "id": "5e7af006",
   "metadata": {},
   "outputs": [],
   "source": [
    "from transformers import AutoModelForSeq2SeqLM, Seq2SeqTrainingArguments, Seq2SeqTrainer, DataCollatorForSeq2Seq\n",
    "\n",
    "# Carregar o modelo pré-treinado\n",
    "model = AutoModelForSeq2SeqLM.from_pretrained(model_checkpoint)\n",
    "\n",
    "\n",
    "# Definir as regras e configurações do treino\n",
    "training_args = Seq2SeqTrainingArguments(\n",
    "    output_dir=\"./meu_modelo_tradutor\",\n",
    "    \n",
    "    do_eval=True,\n",
    "    learning_rate=2e-5,\n",
    "    per_device_train_batch_size=16,\n",
    "    per_device_eval_batch_size=16,\n",
    "    num_train_epochs=2,\n",
    "    weight_decay=0.01,\n",
    "    save_total_limit=3,\n",
    "    predict_with_generate=True,\n",
    ")\n",
    "\n",
    "data_collator = DataCollatorForSeq2Seq(tokenizer=tokenizer, model=model)\n",
    "\n",
    "trainer = Seq2SeqTrainer(\n",
    "    model=model,\n",
    "    args=training_args,\n",
    "    train_dataset=tokenized_datasets[\"train\"],\n",
    "    eval_dataset=tokenized_datasets[\"test\"],\n",
    "    tokenizer=tokenizer,\n",
    "    data_collator=data_collator,\n",
    ")\n",
    "\n",
    "print(\"\\nTrainer configurado. Pronto para iniciar o treino!\")\n",
    "\n",
    "# Iniciar o treino!\n",
    "trainer.train()\n",
    "\n",
    "print(\"\\n--- PASSO 3 CONCLUÍDO ---\")\n",
    "print(\"O treino foi finalizado! O seu modelo está guardado na pasta 'meu_modelo_tradutor'.\")"
   ]
  }
 ],
 "metadata": {
  "kernelspec": {
   "display_name": "Projeto-traducao",
   "language": "python",
   "name": "python3"
  },
  "language_info": {
   "codemirror_mode": {
    "name": "ipython",
    "version": 3
   },
   "file_extension": ".py",
   "mimetype": "text/x-python",
   "name": "python",
   "nbconvert_exporter": "python",
   "pygments_lexer": "ipython3",
   "version": "3.12.8"
  }
 },
 "nbformat": 4,
 "nbformat_minor": 5
}
