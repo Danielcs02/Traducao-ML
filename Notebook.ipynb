{
 "cells": [
  {
   "cell_type": "code",
   "execution_count": 34,
   "id": "67df7cdc",
   "metadata": {},
   "outputs": [],
   "source": [
    "# importando as bibliotecas\n",
    "import pandas as pd\n",
    "import numpy as np\n",
    "import joblib\n",
    "import csv"
   ]
  },
  {
   "cell_type": "code",
   "execution_count": null,
   "id": "cffda49d",
   "metadata": {},
   "outputs": [],
   "source": [
    "caminho_do_arquivo = '../Novo_projeto_ML/Database/Tatoeba(formal).tsv'\n",
    "\n",
    "# Solução final combinando os parâmetros para máxima robustez\n",
    "df_tatoeba = pd.read_csv(\n",
    "    caminho_do_arquivo,\n",
    "    sep='\\t',                # 1. Usa tabulação como separador\n",
    "    quoting=csv.QUOTE_NONE,  # 2. Ignora todas as aspas no arquivo\n",
    "    on_bad_lines='skip'      # 3. Pula qualquer outra linha mal formatada\n",
    ")\n",
    "\n",
    "print(\"Arquivo lido com sucesso!\")\n",
    "print(df_tatoeba)"
   ]
  }
 ],
 "metadata": {
  "kernelspec": {
   "display_name": "Projeto-traducao",
   "language": "python",
   "name": "python3"
  },
  "language_info": {
   "codemirror_mode": {
    "name": "ipython",
    "version": 3
   },
   "file_extension": ".py",
   "mimetype": "text/x-python",
   "name": "python",
   "nbconvert_exporter": "python",
   "pygments_lexer": "ipython3",
   "version": "3.12.8"
  }
 },
 "nbformat": 4,
 "nbformat_minor": 5
}
