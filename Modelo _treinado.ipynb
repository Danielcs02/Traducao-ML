{
 "cells": [
  {
   "cell_type": "code",
   "execution_count": 9,
   "id": "1bec5791",
   "metadata": {},
   "outputs": [
    {
     "name": "stdout",
     "output_type": "stream",
     "text": [
      "A carregar o modelo: Orpheus095/meu_modelo_tradutor\n"
     ]
    },
    {
     "name": "stderr",
     "output_type": "stream",
     "text": [
      "Device set to use cpu\n"
     ]
    },
    {
     "name": "stdout",
     "output_type": "stream",
     "text": [
      "\n",
      "Modelo carregado com sucesso! Pronto para traduzir.\n",
      "\n",
      "--- RESULTADO DA TRADUÇÃO ---\n",
      "Frase original: translate English to Portuguese: I want bread!\n",
      "Tradução do seu modelo: Eu quero po!\n"
     ]
    }
   ],
   "source": [
    "from transformers import pipeline\n",
    "\n",
    "model_id = \"Orpheus095/meu_modelo_tradutor\"\n",
    "\n",
    "print(f\"A carregar o modelo: {model_id}\")\n",
    "\n",
    "translator_personalizado = pipeline(task=\"translation_en_to_pt\", model=model_id)\n",
    "\n",
    "print(\"\\nModelo carregado com sucesso! Pronto para traduzir.\")\n",
    "\n",
    "frase_em_ingles = \"translate English to Portuguese: I want bread!\"\n",
    "resultado = translator_personalizado(frase_em_ingles)\n",
    "\n",
    "print(\"\\n--- RESULTADO DA TRADUÇÃO ---\")\n",
    "print(f\"Frase original: {frase_em_ingles}\")\n",
    "print(f\"Tradução do seu modelo: {resultado[0]['translation_text']}\")"
   ]
  }
 ],
 "metadata": {
  "kernelspec": {
   "display_name": "Projeto-traducao",
   "language": "python",
   "name": "python3"
  },
  "language_info": {
   "codemirror_mode": {
    "name": "ipython",
    "version": 3
   },
   "file_extension": ".py",
   "mimetype": "text/x-python",
   "name": "python",
   "nbconvert_exporter": "python",
   "pygments_lexer": "ipython3",
   "version": "3.12.8"
  }
 },
 "nbformat": 4,
 "nbformat_minor": 5
}
